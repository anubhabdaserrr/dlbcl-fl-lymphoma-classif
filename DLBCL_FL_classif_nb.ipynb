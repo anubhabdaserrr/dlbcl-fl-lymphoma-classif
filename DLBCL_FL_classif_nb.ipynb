{
  "nbformat": 4,
  "nbformat_minor": 0,
  "metadata": {
    "kernelspec": {
      "display_name": "Python 3",
      "language": "python",
      "name": "python3"
    },
    "language_info": {
      "codemirror_mode": {
        "name": "ipython",
        "version": 3
      },
      "file_extension": ".py",
      "mimetype": "text/x-python",
      "name": "python",
      "nbconvert_exporter": "python",
      "pygments_lexer": "ipython3",
      "version": "3.7.7"
    },
    "colab": {
      "name": "DLBCL-FL-classif-nb.ipynb",
      "provenance": [],
      "collapsed_sections": [],
      "toc_visible": true
    }
  },
  "cells": [
    {
      "cell_type": "markdown",
      "metadata": {
        "id": "j7vz5l6t8YUe"
      },
      "source": [
        "# Diffuse large B-cell & Follicular lymphoma classification using ANOVA F-test feature selection method & SVM, Random Forest classifiers\n",
        "\n",
        "In this notebook, we'll use a feature-selection method (ANOVA F-test) to train classifiers (SVM & RF). SMOTE has been used for over-sampling & instead of train-test split, we use Stratified K-Fold Cross Validation as a way to estimate out-of-sample performance because our dataset is pretty small."
      ]
    },
    {
      "cell_type": "markdown",
      "metadata": {
        "id": "Pn-wksHj8YUo"
      },
      "source": [
        "# Importing necessary libraries"
      ]
    },
    {
      "cell_type": "code",
      "metadata": {
        "id": "kMcCBaCe8YUp",
        "colab": {
          "base_uri": "https://localhost:8080/"
        },
        "outputId": "c8834e32-8f95-4562-819a-85be5a320c1e"
      },
      "source": [
        "#For importing & manipulating the dataset\n",
        "import numpy as np\n",
        "import pandas as pd\n",
        "pd.set_option('display.max_columns', 20)\n",
        "from sklearn.preprocessing import StandardScaler\n",
        "from sklearn.utils import shuffle\n",
        "from sklearn.feature_selection import f_classif, SelectKBest\n",
        "from imblearn.over_sampling import SMOTE\n",
        "\n",
        "#For data visualization\n",
        "import matplotlib.pyplot as plt\n",
        "%matplotlib inline\n",
        "\n",
        "#For building & training models\n",
        "from sklearn.ensemble import RandomForestClassifier\n",
        "from sklearn.svm import SVC\n",
        "\n",
        "#For evaluating models\n",
        "from sklearn.metrics import accuracy_score, f1_score, recall_score, precision_score\n",
        "from sklearn.metrics import classification_report\n",
        "from sklearn.metrics import plot_confusion_matrix\n",
        "from sklearn.model_selection import train_test_split, KFold, StratifiedShuffleSplit\n",
        "\n",
        "#Miscellaneous\n",
        "import warnings\n",
        "warnings.filterwarnings('ignore')\n",
        "import pickle"
      ],
      "execution_count": 1,
      "outputs": [
        {
          "output_type": "stream",
          "text": [
            "/usr/local/lib/python3.7/dist-packages/sklearn/externals/six.py:31: FutureWarning: The module is deprecated in version 0.21 and will be removed in version 0.23 since we've dropped support for Python 2.7. Please rely on the official version of six (https://pypi.org/project/six/).\n",
            "  \"(https://pypi.org/project/six/).\", FutureWarning)\n",
            "/usr/local/lib/python3.7/dist-packages/sklearn/utils/deprecation.py:144: FutureWarning: The sklearn.neighbors.base module is  deprecated in version 0.22 and will be removed in version 0.24. The corresponding classes / functions should instead be imported from sklearn.neighbors. Anything that cannot be imported from sklearn.neighbors is now part of the private API.\n",
            "  warnings.warn(message, FutureWarning)\n"
          ],
          "name": "stderr"
        }
      ]
    },
    {
      "cell_type": "markdown",
      "metadata": {
        "id": "qAqSWA1P8YUq"
      },
      "source": [
        "# Importing the dataset & very basic analysis"
      ]
    },
    {
      "cell_type": "code",
      "metadata": {
        "id": "6xaC0rQf_8Ej"
      },
      "source": [
        "df = pd.read_table('/content/DLBCL.tab')"
      ],
      "execution_count": 59,
      "outputs": []
    },
    {
      "cell_type": "code",
      "metadata": {
        "id": "jVVuYtgR8YUr",
        "colab": {
          "base_uri": "https://localhost:8080/",
          "height": 268
        },
        "outputId": "e9ebd6e7-5aef-496f-942f-4be83b846c8b"
      },
      "source": [
        "df.head(5)"
      ],
      "execution_count": 60,
      "outputs": [
        {
          "output_type": "execute_result",
          "data": {
            "text/html": [
              "<div>\n",
              "<style scoped>\n",
              "    .dataframe tbody tr th:only-of-type {\n",
              "        vertical-align: middle;\n",
              "    }\n",
              "\n",
              "    .dataframe tbody tr th {\n",
              "        vertical-align: top;\n",
              "    }\n",
              "\n",
              "    .dataframe thead th {\n",
              "        text-align: right;\n",
              "    }\n",
              "</style>\n",
              "<table border=\"1\" class=\"dataframe\">\n",
              "  <thead>\n",
              "    <tr style=\"text-align: right;\">\n",
              "      <th></th>\n",
              "      <th>A28102</th>\n",
              "      <th>AB000114_at</th>\n",
              "      <th>AB000115_at</th>\n",
              "      <th>AB000220_at</th>\n",
              "      <th>AB000409_at</th>\n",
              "      <th>AB000449_at</th>\n",
              "      <th>AB000450_at</th>\n",
              "      <th>AB000460_at</th>\n",
              "      <th>AB000462_at</th>\n",
              "      <th>AB000464_at</th>\n",
              "      <th>...</th>\n",
              "      <th>U58516_at</th>\n",
              "      <th>U73738_at</th>\n",
              "      <th>X06956_at</th>\n",
              "      <th>X16699_at</th>\n",
              "      <th>X83863_at</th>\n",
              "      <th>Z17240_at</th>\n",
              "      <th>L49218_f_at</th>\n",
              "      <th>M71243_f_at</th>\n",
              "      <th>Z78285_f_at</th>\n",
              "      <th>class</th>\n",
              "    </tr>\n",
              "  </thead>\n",
              "  <tbody>\n",
              "    <tr>\n",
              "      <th>0</th>\n",
              "      <td>continuous</td>\n",
              "      <td>continuous</td>\n",
              "      <td>continuous</td>\n",
              "      <td>continuous</td>\n",
              "      <td>continuous</td>\n",
              "      <td>continuous</td>\n",
              "      <td>continuous</td>\n",
              "      <td>continuous</td>\n",
              "      <td>continuous</td>\n",
              "      <td>continuous</td>\n",
              "      <td>...</td>\n",
              "      <td>continuous</td>\n",
              "      <td>continuous</td>\n",
              "      <td>continuous</td>\n",
              "      <td>continuous</td>\n",
              "      <td>continuous</td>\n",
              "      <td>continuous</td>\n",
              "      <td>continuous</td>\n",
              "      <td>continuous</td>\n",
              "      <td>continuous</td>\n",
              "      <td>DLBCL FL</td>\n",
              "    </tr>\n",
              "    <tr>\n",
              "      <th>1</th>\n",
              "      <td>NaN</td>\n",
              "      <td>NaN</td>\n",
              "      <td>NaN</td>\n",
              "      <td>NaN</td>\n",
              "      <td>NaN</td>\n",
              "      <td>NaN</td>\n",
              "      <td>NaN</td>\n",
              "      <td>NaN</td>\n",
              "      <td>NaN</td>\n",
              "      <td>NaN</td>\n",
              "      <td>...</td>\n",
              "      <td>NaN</td>\n",
              "      <td>NaN</td>\n",
              "      <td>NaN</td>\n",
              "      <td>NaN</td>\n",
              "      <td>NaN</td>\n",
              "      <td>NaN</td>\n",
              "      <td>NaN</td>\n",
              "      <td>NaN</td>\n",
              "      <td>NaN</td>\n",
              "      <td>class</td>\n",
              "    </tr>\n",
              "    <tr>\n",
              "      <th>2</th>\n",
              "      <td>-1</td>\n",
              "      <td>-45</td>\n",
              "      <td>176</td>\n",
              "      <td>97</td>\n",
              "      <td>-57</td>\n",
              "      <td>233</td>\n",
              "      <td>265</td>\n",
              "      <td>945</td>\n",
              "      <td>56</td>\n",
              "      <td>819</td>\n",
              "      <td>...</td>\n",
              "      <td>1036</td>\n",
              "      <td>-161</td>\n",
              "      <td>1523</td>\n",
              "      <td>-72</td>\n",
              "      <td>897</td>\n",
              "      <td>366</td>\n",
              "      <td>3</td>\n",
              "      <td>76</td>\n",
              "      <td>-28</td>\n",
              "      <td>DLBCL</td>\n",
              "    </tr>\n",
              "    <tr>\n",
              "      <th>3</th>\n",
              "      <td>25</td>\n",
              "      <td>-17</td>\n",
              "      <td>531</td>\n",
              "      <td>353</td>\n",
              "      <td>122</td>\n",
              "      <td>155</td>\n",
              "      <td>209</td>\n",
              "      <td>1688</td>\n",
              "      <td>42</td>\n",
              "      <td>639</td>\n",
              "      <td>...</td>\n",
              "      <td>4254</td>\n",
              "      <td>-75</td>\n",
              "      <td>6056</td>\n",
              "      <td>-68</td>\n",
              "      <td>737</td>\n",
              "      <td>81</td>\n",
              "      <td>-4</td>\n",
              "      <td>41</td>\n",
              "      <td>-45</td>\n",
              "      <td>DLBCL</td>\n",
              "    </tr>\n",
              "    <tr>\n",
              "      <th>4</th>\n",
              "      <td>73</td>\n",
              "      <td>91</td>\n",
              "      <td>257</td>\n",
              "      <td>80</td>\n",
              "      <td>614</td>\n",
              "      <td>507</td>\n",
              "      <td>760</td>\n",
              "      <td>2252</td>\n",
              "      <td>196</td>\n",
              "      <td>863</td>\n",
              "      <td>...</td>\n",
              "      <td>1934</td>\n",
              "      <td>-129</td>\n",
              "      <td>2901</td>\n",
              "      <td>-9</td>\n",
              "      <td>946</td>\n",
              "      <td>450</td>\n",
              "      <td>38</td>\n",
              "      <td>164</td>\n",
              "      <td>-62</td>\n",
              "      <td>DLBCL</td>\n",
              "    </tr>\n",
              "  </tbody>\n",
              "</table>\n",
              "<p>5 rows × 7071 columns</p>\n",
              "</div>"
            ],
            "text/plain": [
              "       A28102 AB000114_at AB000115_at AB000220_at AB000409_at AB000449_at  \\\n",
              "0  continuous  continuous  continuous  continuous  continuous  continuous   \n",
              "1         NaN         NaN         NaN         NaN         NaN         NaN   \n",
              "2          -1         -45         176          97         -57         233   \n",
              "3          25         -17         531         353         122         155   \n",
              "4          73          91         257          80         614         507   \n",
              "\n",
              "  AB000450_at AB000460_at AB000462_at AB000464_at  ...   U58516_at  \\\n",
              "0  continuous  continuous  continuous  continuous  ...  continuous   \n",
              "1         NaN         NaN         NaN         NaN  ...         NaN   \n",
              "2         265         945          56         819  ...        1036   \n",
              "3         209        1688          42         639  ...        4254   \n",
              "4         760        2252         196         863  ...        1934   \n",
              "\n",
              "    U73738_at   X06956_at   X16699_at   X83863_at   Z17240_at L49218_f_at  \\\n",
              "0  continuous  continuous  continuous  continuous  continuous  continuous   \n",
              "1         NaN         NaN         NaN         NaN         NaN         NaN   \n",
              "2        -161        1523         -72         897         366           3   \n",
              "3         -75        6056         -68         737          81          -4   \n",
              "4        -129        2901          -9         946         450          38   \n",
              "\n",
              "  M71243_f_at Z78285_f_at     class  \n",
              "0  continuous  continuous  DLBCL FL  \n",
              "1         NaN         NaN     class  \n",
              "2          76         -28     DLBCL  \n",
              "3          41         -45     DLBCL  \n",
              "4         164         -62     DLBCL  \n",
              "\n",
              "[5 rows x 7071 columns]"
            ]
          },
          "metadata": {
            "tags": []
          },
          "execution_count": 60
        }
      ]
    },
    {
      "cell_type": "code",
      "metadata": {
        "id": "cQhEs7uD8YUs",
        "colab": {
          "base_uri": "https://localhost:8080/",
          "height": 221
        },
        "outputId": "4d471bf0-7985-48ee-e810-3228a92c025e"
      },
      "source": [
        "df.describe()"
      ],
      "execution_count": 61,
      "outputs": [
        {
          "output_type": "execute_result",
          "data": {
            "text/html": [
              "<div>\n",
              "<style scoped>\n",
              "    .dataframe tbody tr th:only-of-type {\n",
              "        vertical-align: middle;\n",
              "    }\n",
              "\n",
              "    .dataframe tbody tr th {\n",
              "        vertical-align: top;\n",
              "    }\n",
              "\n",
              "    .dataframe thead th {\n",
              "        text-align: right;\n",
              "    }\n",
              "</style>\n",
              "<table border=\"1\" class=\"dataframe\">\n",
              "  <thead>\n",
              "    <tr style=\"text-align: right;\">\n",
              "      <th></th>\n",
              "      <th>A28102</th>\n",
              "      <th>AB000114_at</th>\n",
              "      <th>AB000115_at</th>\n",
              "      <th>AB000220_at</th>\n",
              "      <th>AB000409_at</th>\n",
              "      <th>AB000449_at</th>\n",
              "      <th>AB000450_at</th>\n",
              "      <th>AB000460_at</th>\n",
              "      <th>AB000462_at</th>\n",
              "      <th>AB000464_at</th>\n",
              "      <th>...</th>\n",
              "      <th>U58516_at</th>\n",
              "      <th>U73738_at</th>\n",
              "      <th>X06956_at</th>\n",
              "      <th>X16699_at</th>\n",
              "      <th>X83863_at</th>\n",
              "      <th>Z17240_at</th>\n",
              "      <th>L49218_f_at</th>\n",
              "      <th>M71243_f_at</th>\n",
              "      <th>Z78285_f_at</th>\n",
              "      <th>class</th>\n",
              "    </tr>\n",
              "  </thead>\n",
              "  <tbody>\n",
              "    <tr>\n",
              "      <th>count</th>\n",
              "      <td>78</td>\n",
              "      <td>78</td>\n",
              "      <td>78</td>\n",
              "      <td>78</td>\n",
              "      <td>78</td>\n",
              "      <td>78</td>\n",
              "      <td>78</td>\n",
              "      <td>78</td>\n",
              "      <td>78</td>\n",
              "      <td>78</td>\n",
              "      <td>...</td>\n",
              "      <td>78</td>\n",
              "      <td>78</td>\n",
              "      <td>78</td>\n",
              "      <td>78</td>\n",
              "      <td>78</td>\n",
              "      <td>78</td>\n",
              "      <td>78</td>\n",
              "      <td>78</td>\n",
              "      <td>78</td>\n",
              "      <td>79</td>\n",
              "    </tr>\n",
              "    <tr>\n",
              "      <th>unique</th>\n",
              "      <td>74</td>\n",
              "      <td>68</td>\n",
              "      <td>76</td>\n",
              "      <td>76</td>\n",
              "      <td>77</td>\n",
              "      <td>75</td>\n",
              "      <td>72</td>\n",
              "      <td>76</td>\n",
              "      <td>69</td>\n",
              "      <td>76</td>\n",
              "      <td>...</td>\n",
              "      <td>78</td>\n",
              "      <td>75</td>\n",
              "      <td>77</td>\n",
              "      <td>73</td>\n",
              "      <td>73</td>\n",
              "      <td>75</td>\n",
              "      <td>71</td>\n",
              "      <td>74</td>\n",
              "      <td>65</td>\n",
              "      <td>4</td>\n",
              "    </tr>\n",
              "    <tr>\n",
              "      <th>top</th>\n",
              "      <td>124</td>\n",
              "      <td>30</td>\n",
              "      <td>184</td>\n",
              "      <td>71</td>\n",
              "      <td>157</td>\n",
              "      <td>135</td>\n",
              "      <td>87</td>\n",
              "      <td>1720</td>\n",
              "      <td>42</td>\n",
              "      <td>320</td>\n",
              "      <td>...</td>\n",
              "      <td>678</td>\n",
              "      <td>-21</td>\n",
              "      <td>311</td>\n",
              "      <td>-111</td>\n",
              "      <td>875</td>\n",
              "      <td>-206</td>\n",
              "      <td>1</td>\n",
              "      <td>73</td>\n",
              "      <td>-25</td>\n",
              "      <td>DLBCL</td>\n",
              "    </tr>\n",
              "    <tr>\n",
              "      <th>freq</th>\n",
              "      <td>2</td>\n",
              "      <td>2</td>\n",
              "      <td>2</td>\n",
              "      <td>2</td>\n",
              "      <td>2</td>\n",
              "      <td>2</td>\n",
              "      <td>2</td>\n",
              "      <td>2</td>\n",
              "      <td>3</td>\n",
              "      <td>2</td>\n",
              "      <td>...</td>\n",
              "      <td>1</td>\n",
              "      <td>3</td>\n",
              "      <td>2</td>\n",
              "      <td>2</td>\n",
              "      <td>2</td>\n",
              "      <td>2</td>\n",
              "      <td>3</td>\n",
              "      <td>3</td>\n",
              "      <td>3</td>\n",
              "      <td>58</td>\n",
              "    </tr>\n",
              "  </tbody>\n",
              "</table>\n",
              "<p>4 rows × 7071 columns</p>\n",
              "</div>"
            ],
            "text/plain": [
              "       A28102 AB000114_at AB000115_at AB000220_at AB000409_at AB000449_at  \\\n",
              "count      78          78          78          78          78          78   \n",
              "unique     74          68          76          76          77          75   \n",
              "top       124          30         184          71         157         135   \n",
              "freq        2           2           2           2           2           2   \n",
              "\n",
              "       AB000450_at AB000460_at AB000462_at AB000464_at  ... U58516_at  \\\n",
              "count           78          78          78          78  ...        78   \n",
              "unique          72          76          69          76  ...        78   \n",
              "top             87        1720          42         320  ...       678   \n",
              "freq             2           2           3           2  ...         1   \n",
              "\n",
              "       U73738_at X06956_at X16699_at X83863_at Z17240_at L49218_f_at  \\\n",
              "count         78        78        78        78        78          78   \n",
              "unique        75        77        73        73        75          71   \n",
              "top          -21       311      -111       875      -206           1   \n",
              "freq           3         2         2         2         2           3   \n",
              "\n",
              "       M71243_f_at Z78285_f_at  class  \n",
              "count           78          78     79  \n",
              "unique          74          65      4  \n",
              "top             73         -25  DLBCL  \n",
              "freq             3           3     58  \n",
              "\n",
              "[4 rows x 7071 columns]"
            ]
          },
          "metadata": {
            "tags": []
          },
          "execution_count": 61
        }
      ]
    },
    {
      "cell_type": "code",
      "metadata": {
        "id": "8r4mdEm2AlCr"
      },
      "source": [
        "df_types = df.iloc[0]"
      ],
      "execution_count": 62,
      "outputs": []
    },
    {
      "cell_type": "code",
      "metadata": {
        "colab": {
          "base_uri": "https://localhost:8080/"
        },
        "id": "atZWBrGRBL3B",
        "outputId": "c1eea83f-9bd2-4c77-eea2-417c70fa212a"
      },
      "source": [
        "pd.value_counts(df_types)"
      ],
      "execution_count": 63,
      "outputs": [
        {
          "output_type": "execute_result",
          "data": {
            "text/plain": [
              "continuous    7070\n",
              "DLBCL FL         1\n",
              "Name: 0, dtype: int64"
            ]
          },
          "metadata": {
            "tags": []
          },
          "execution_count": 63
        }
      ]
    },
    {
      "cell_type": "markdown",
      "metadata": {
        "id": "rZvbpbsnb24j"
      },
      "source": [
        "All features are continuous except for the last column which is the target variable - There's 2 classes (DLBCL & FL)."
      ]
    },
    {
      "cell_type": "code",
      "metadata": {
        "colab": {
          "base_uri": "https://localhost:8080/"
        },
        "id": "6T3d9jH7A4Fc",
        "outputId": "222a6754-55a3-4e10-f427-8d59990cbe33"
      },
      "source": [
        "pd.value_counts(df.iloc[1],dropna=False)"
      ],
      "execution_count": 64,
      "outputs": [
        {
          "output_type": "execute_result",
          "data": {
            "text/plain": [
              "NaN      7070\n",
              "class       1\n",
              "Name: 1, dtype: int64"
            ]
          },
          "metadata": {
            "tags": []
          },
          "execution_count": 64
        }
      ]
    },
    {
      "cell_type": "code",
      "metadata": {
        "id": "2OJWnrOeAt36"
      },
      "source": [
        "df.drop(index=[0,1],inplace=True)"
      ],
      "execution_count": 65,
      "outputs": []
    },
    {
      "cell_type": "code",
      "metadata": {
        "id": "nsyIA-6wBY5f"
      },
      "source": [
        "df.reset_index(inplace=True,drop=True)"
      ],
      "execution_count": 66,
      "outputs": []
    },
    {
      "cell_type": "code",
      "metadata": {
        "colab": {
          "base_uri": "https://localhost:8080/",
          "height": 435
        },
        "id": "5dhD3KyuBhd9",
        "outputId": "86ca1360-3f03-41fa-db41-7f4f237d0e43"
      },
      "source": [
        "df"
      ],
      "execution_count": 67,
      "outputs": [
        {
          "output_type": "execute_result",
          "data": {
            "text/html": [
              "<div>\n",
              "<style scoped>\n",
              "    .dataframe tbody tr th:only-of-type {\n",
              "        vertical-align: middle;\n",
              "    }\n",
              "\n",
              "    .dataframe tbody tr th {\n",
              "        vertical-align: top;\n",
              "    }\n",
              "\n",
              "    .dataframe thead th {\n",
              "        text-align: right;\n",
              "    }\n",
              "</style>\n",
              "<table border=\"1\" class=\"dataframe\">\n",
              "  <thead>\n",
              "    <tr style=\"text-align: right;\">\n",
              "      <th></th>\n",
              "      <th>A28102</th>\n",
              "      <th>AB000114_at</th>\n",
              "      <th>AB000115_at</th>\n",
              "      <th>AB000220_at</th>\n",
              "      <th>AB000409_at</th>\n",
              "      <th>AB000449_at</th>\n",
              "      <th>AB000450_at</th>\n",
              "      <th>AB000460_at</th>\n",
              "      <th>AB000462_at</th>\n",
              "      <th>AB000464_at</th>\n",
              "      <th>...</th>\n",
              "      <th>U58516_at</th>\n",
              "      <th>U73738_at</th>\n",
              "      <th>X06956_at</th>\n",
              "      <th>X16699_at</th>\n",
              "      <th>X83863_at</th>\n",
              "      <th>Z17240_at</th>\n",
              "      <th>L49218_f_at</th>\n",
              "      <th>M71243_f_at</th>\n",
              "      <th>Z78285_f_at</th>\n",
              "      <th>class</th>\n",
              "    </tr>\n",
              "  </thead>\n",
              "  <tbody>\n",
              "    <tr>\n",
              "      <th>0</th>\n",
              "      <td>-1</td>\n",
              "      <td>-45</td>\n",
              "      <td>176</td>\n",
              "      <td>97</td>\n",
              "      <td>-57</td>\n",
              "      <td>233</td>\n",
              "      <td>265</td>\n",
              "      <td>945</td>\n",
              "      <td>56</td>\n",
              "      <td>819</td>\n",
              "      <td>...</td>\n",
              "      <td>1036</td>\n",
              "      <td>-161</td>\n",
              "      <td>1523</td>\n",
              "      <td>-72</td>\n",
              "      <td>897</td>\n",
              "      <td>366</td>\n",
              "      <td>3</td>\n",
              "      <td>76</td>\n",
              "      <td>-28</td>\n",
              "      <td>DLBCL</td>\n",
              "    </tr>\n",
              "    <tr>\n",
              "      <th>1</th>\n",
              "      <td>25</td>\n",
              "      <td>-17</td>\n",
              "      <td>531</td>\n",
              "      <td>353</td>\n",
              "      <td>122</td>\n",
              "      <td>155</td>\n",
              "      <td>209</td>\n",
              "      <td>1688</td>\n",
              "      <td>42</td>\n",
              "      <td>639</td>\n",
              "      <td>...</td>\n",
              "      <td>4254</td>\n",
              "      <td>-75</td>\n",
              "      <td>6056</td>\n",
              "      <td>-68</td>\n",
              "      <td>737</td>\n",
              "      <td>81</td>\n",
              "      <td>-4</td>\n",
              "      <td>41</td>\n",
              "      <td>-45</td>\n",
              "      <td>DLBCL</td>\n",
              "    </tr>\n",
              "    <tr>\n",
              "      <th>2</th>\n",
              "      <td>73</td>\n",
              "      <td>91</td>\n",
              "      <td>257</td>\n",
              "      <td>80</td>\n",
              "      <td>614</td>\n",
              "      <td>507</td>\n",
              "      <td>760</td>\n",
              "      <td>2252</td>\n",
              "      <td>196</td>\n",
              "      <td>863</td>\n",
              "      <td>...</td>\n",
              "      <td>1934</td>\n",
              "      <td>-129</td>\n",
              "      <td>2901</td>\n",
              "      <td>-9</td>\n",
              "      <td>946</td>\n",
              "      <td>450</td>\n",
              "      <td>38</td>\n",
              "      <td>164</td>\n",
              "      <td>-62</td>\n",
              "      <td>DLBCL</td>\n",
              "    </tr>\n",
              "    <tr>\n",
              "      <th>3</th>\n",
              "      <td>267</td>\n",
              "      <td>41</td>\n",
              "      <td>202</td>\n",
              "      <td>138</td>\n",
              "      <td>198</td>\n",
              "      <td>355</td>\n",
              "      <td>245</td>\n",
              "      <td>1469</td>\n",
              "      <td>170</td>\n",
              "      <td>384</td>\n",
              "      <td>...</td>\n",
              "      <td>2469</td>\n",
              "      <td>93</td>\n",
              "      <td>2465</td>\n",
              "      <td>-119</td>\n",
              "      <td>339</td>\n",
              "      <td>321</td>\n",
              "      <td>-63</td>\n",
              "      <td>73</td>\n",
              "      <td>-13</td>\n",
              "      <td>DLBCL</td>\n",
              "    </tr>\n",
              "    <tr>\n",
              "      <th>4</th>\n",
              "      <td>16</td>\n",
              "      <td>24</td>\n",
              "      <td>187</td>\n",
              "      <td>39</td>\n",
              "      <td>145</td>\n",
              "      <td>254</td>\n",
              "      <td>571</td>\n",
              "      <td>930</td>\n",
              "      <td>-11</td>\n",
              "      <td>439</td>\n",
              "      <td>...</td>\n",
              "      <td>608</td>\n",
              "      <td>-39</td>\n",
              "      <td>1667</td>\n",
              "      <td>-87</td>\n",
              "      <td>721</td>\n",
              "      <td>213</td>\n",
              "      <td>15</td>\n",
              "      <td>155</td>\n",
              "      <td>-26</td>\n",
              "      <td>DLBCL</td>\n",
              "    </tr>\n",
              "    <tr>\n",
              "      <th>...</th>\n",
              "      <td>...</td>\n",
              "      <td>...</td>\n",
              "      <td>...</td>\n",
              "      <td>...</td>\n",
              "      <td>...</td>\n",
              "      <td>...</td>\n",
              "      <td>...</td>\n",
              "      <td>...</td>\n",
              "      <td>...</td>\n",
              "      <td>...</td>\n",
              "      <td>...</td>\n",
              "      <td>...</td>\n",
              "      <td>...</td>\n",
              "      <td>...</td>\n",
              "      <td>...</td>\n",
              "      <td>...</td>\n",
              "      <td>...</td>\n",
              "      <td>...</td>\n",
              "      <td>...</td>\n",
              "      <td>...</td>\n",
              "      <td>...</td>\n",
              "    </tr>\n",
              "    <tr>\n",
              "      <th>72</th>\n",
              "      <td>205</td>\n",
              "      <td>116</td>\n",
              "      <td>361</td>\n",
              "      <td>295</td>\n",
              "      <td>424</td>\n",
              "      <td>286</td>\n",
              "      <td>239</td>\n",
              "      <td>1376</td>\n",
              "      <td>249</td>\n",
              "      <td>540</td>\n",
              "      <td>...</td>\n",
              "      <td>1014</td>\n",
              "      <td>-531</td>\n",
              "      <td>1039</td>\n",
              "      <td>-325</td>\n",
              "      <td>412</td>\n",
              "      <td>-29</td>\n",
              "      <td>-264</td>\n",
              "      <td>-292</td>\n",
              "      <td>-384</td>\n",
              "      <td>FL</td>\n",
              "    </tr>\n",
              "    <tr>\n",
              "      <th>73</th>\n",
              "      <td>323</td>\n",
              "      <td>123</td>\n",
              "      <td>498</td>\n",
              "      <td>303</td>\n",
              "      <td>-91</td>\n",
              "      <td>135</td>\n",
              "      <td>231</td>\n",
              "      <td>1938</td>\n",
              "      <td>273</td>\n",
              "      <td>1795</td>\n",
              "      <td>...</td>\n",
              "      <td>1629</td>\n",
              "      <td>-378</td>\n",
              "      <td>311</td>\n",
              "      <td>-251</td>\n",
              "      <td>1571</td>\n",
              "      <td>861</td>\n",
              "      <td>-53</td>\n",
              "      <td>17</td>\n",
              "      <td>-396</td>\n",
              "      <td>FL</td>\n",
              "    </tr>\n",
              "    <tr>\n",
              "      <th>74</th>\n",
              "      <td>83</td>\n",
              "      <td>-63</td>\n",
              "      <td>164</td>\n",
              "      <td>120</td>\n",
              "      <td>176</td>\n",
              "      <td>344</td>\n",
              "      <td>396</td>\n",
              "      <td>1348</td>\n",
              "      <td>210</td>\n",
              "      <td>684</td>\n",
              "      <td>...</td>\n",
              "      <td>573</td>\n",
              "      <td>-26</td>\n",
              "      <td>1170</td>\n",
              "      <td>-262</td>\n",
              "      <td>322</td>\n",
              "      <td>-109</td>\n",
              "      <td>-221</td>\n",
              "      <td>-213</td>\n",
              "      <td>-318</td>\n",
              "      <td>FL</td>\n",
              "    </tr>\n",
              "    <tr>\n",
              "      <th>75</th>\n",
              "      <td>27</td>\n",
              "      <td>-194</td>\n",
              "      <td>346</td>\n",
              "      <td>107</td>\n",
              "      <td>11</td>\n",
              "      <td>125</td>\n",
              "      <td>60</td>\n",
              "      <td>982</td>\n",
              "      <td>143</td>\n",
              "      <td>550</td>\n",
              "      <td>...</td>\n",
              "      <td>501</td>\n",
              "      <td>-329</td>\n",
              "      <td>335</td>\n",
              "      <td>-214</td>\n",
              "      <td>875</td>\n",
              "      <td>157</td>\n",
              "      <td>-97</td>\n",
              "      <td>-120</td>\n",
              "      <td>-291</td>\n",
              "      <td>FL</td>\n",
              "    </tr>\n",
              "    <tr>\n",
              "      <th>76</th>\n",
              "      <td>3</td>\n",
              "      <td>123</td>\n",
              "      <td>243</td>\n",
              "      <td>111</td>\n",
              "      <td>-327</td>\n",
              "      <td>94</td>\n",
              "      <td>222</td>\n",
              "      <td>1487</td>\n",
              "      <td>226</td>\n",
              "      <td>1216</td>\n",
              "      <td>...</td>\n",
              "      <td>1399</td>\n",
              "      <td>-147</td>\n",
              "      <td>563</td>\n",
              "      <td>-137</td>\n",
              "      <td>1629</td>\n",
              "      <td>714</td>\n",
              "      <td>-1</td>\n",
              "      <td>370</td>\n",
              "      <td>-53</td>\n",
              "      <td>FL</td>\n",
              "    </tr>\n",
              "  </tbody>\n",
              "</table>\n",
              "<p>77 rows × 7071 columns</p>\n",
              "</div>"
            ],
            "text/plain": [
              "   A28102 AB000114_at AB000115_at AB000220_at AB000409_at AB000449_at  \\\n",
              "0      -1         -45         176          97         -57         233   \n",
              "1      25         -17         531         353         122         155   \n",
              "2      73          91         257          80         614         507   \n",
              "3     267          41         202         138         198         355   \n",
              "4      16          24         187          39         145         254   \n",
              "..    ...         ...         ...         ...         ...         ...   \n",
              "72    205         116         361         295         424         286   \n",
              "73    323         123         498         303         -91         135   \n",
              "74     83         -63         164         120         176         344   \n",
              "75     27        -194         346         107          11         125   \n",
              "76      3         123         243         111        -327          94   \n",
              "\n",
              "   AB000450_at AB000460_at AB000462_at AB000464_at  ... U58516_at U73738_at  \\\n",
              "0          265         945          56         819  ...      1036      -161   \n",
              "1          209        1688          42         639  ...      4254       -75   \n",
              "2          760        2252         196         863  ...      1934      -129   \n",
              "3          245        1469         170         384  ...      2469        93   \n",
              "4          571         930         -11         439  ...       608       -39   \n",
              "..         ...         ...         ...         ...  ...       ...       ...   \n",
              "72         239        1376         249         540  ...      1014      -531   \n",
              "73         231        1938         273        1795  ...      1629      -378   \n",
              "74         396        1348         210         684  ...       573       -26   \n",
              "75          60         982         143         550  ...       501      -329   \n",
              "76         222        1487         226        1216  ...      1399      -147   \n",
              "\n",
              "   X06956_at X16699_at X83863_at Z17240_at L49218_f_at M71243_f_at  \\\n",
              "0       1523       -72       897       366           3          76   \n",
              "1       6056       -68       737        81          -4          41   \n",
              "2       2901        -9       946       450          38         164   \n",
              "3       2465      -119       339       321         -63          73   \n",
              "4       1667       -87       721       213          15         155   \n",
              "..       ...       ...       ...       ...         ...         ...   \n",
              "72      1039      -325       412       -29        -264        -292   \n",
              "73       311      -251      1571       861         -53          17   \n",
              "74      1170      -262       322      -109        -221        -213   \n",
              "75       335      -214       875       157         -97        -120   \n",
              "76       563      -137      1629       714          -1         370   \n",
              "\n",
              "   Z78285_f_at  class  \n",
              "0          -28  DLBCL  \n",
              "1          -45  DLBCL  \n",
              "2          -62  DLBCL  \n",
              "3          -13  DLBCL  \n",
              "4          -26  DLBCL  \n",
              "..         ...    ...  \n",
              "72        -384     FL  \n",
              "73        -396     FL  \n",
              "74        -318     FL  \n",
              "75        -291     FL  \n",
              "76         -53     FL  \n",
              "\n",
              "[77 rows x 7071 columns]"
            ]
          },
          "metadata": {
            "tags": []
          },
          "execution_count": 67
        }
      ]
    },
    {
      "cell_type": "code",
      "metadata": {
        "colab": {
          "base_uri": "https://localhost:8080/"
        },
        "id": "nA_MqEaWB54s",
        "outputId": "99f7bda4-6f67-44f5-fe6c-2185ad8c3693"
      },
      "source": [
        "df['class'].value_counts()"
      ],
      "execution_count": 68,
      "outputs": [
        {
          "output_type": "execute_result",
          "data": {
            "text/plain": [
              "DLBCL    58\n",
              "FL       19\n",
              "Name: class, dtype: int64"
            ]
          },
          "metadata": {
            "tags": []
          },
          "execution_count": 68
        }
      ]
    },
    {
      "cell_type": "markdown",
      "metadata": {
        "id": "4H9ADpbXdXy2"
      },
      "source": [
        "58 DLBCL & 19 FL - Therefore, imbalanced class distribution."
      ]
    },
    {
      "cell_type": "code",
      "metadata": {
        "colab": {
          "base_uri": "https://localhost:8080/"
        },
        "id": "thDk1Q-XCK7V",
        "outputId": "9179c616-f04a-4b2a-b948-bcbbaf1d923d"
      },
      "source": [
        "df.isnull().sum().sum()"
      ],
      "execution_count": 70,
      "outputs": [
        {
          "output_type": "execute_result",
          "data": {
            "text/plain": [
              "0"
            ]
          },
          "metadata": {
            "tags": []
          },
          "execution_count": 70
        }
      ]
    },
    {
      "cell_type": "code",
      "metadata": {
        "colab": {
          "base_uri": "https://localhost:8080/",
          "height": 35
        },
        "id": "jpgCx98RCQ54",
        "outputId": "4f70c8db-0454-4f0d-e7c3-2f9135603e21"
      },
      "source": [
        "df.loc[0][0]"
      ],
      "execution_count": 71,
      "outputs": [
        {
          "output_type": "execute_result",
          "data": {
            "application/vnd.google.colaboratory.intrinsic+json": {
              "type": "string"
            },
            "text/plain": [
              "'-1'"
            ]
          },
          "metadata": {
            "tags": []
          },
          "execution_count": 71
        }
      ]
    },
    {
      "cell_type": "markdown",
      "metadata": {
        "id": "N-hFAldCDgea"
      },
      "source": [
        "Elements are string objects."
      ]
    },
    {
      "cell_type": "code",
      "metadata": {
        "id": "cyHLXw7VFrAf"
      },
      "source": [
        "df['class'][df['class']=='DLBCL'] = 0"
      ],
      "execution_count": 72,
      "outputs": []
    },
    {
      "cell_type": "code",
      "metadata": {
        "id": "HVsreQ0MF9XJ"
      },
      "source": [
        "df['class'][df['class']=='FL'] = 1"
      ],
      "execution_count": 73,
      "outputs": []
    },
    {
      "cell_type": "markdown",
      "metadata": {
        "id": "vknDbekKdlio"
      },
      "source": [
        "DLBCL is encoded as 0 & FL as 1"
      ]
    },
    {
      "cell_type": "code",
      "metadata": {
        "colab": {
          "base_uri": "https://localhost:8080/"
        },
        "id": "9rOV1x_7shYD",
        "outputId": "e25479db-6e78-43e6-b743-b07ff5751041"
      },
      "source": [
        "df['class']"
      ],
      "execution_count": 74,
      "outputs": [
        {
          "output_type": "execute_result",
          "data": {
            "text/plain": [
              "0     0\n",
              "1     0\n",
              "2     0\n",
              "3     0\n",
              "4     0\n",
              "     ..\n",
              "72    1\n",
              "73    1\n",
              "74    1\n",
              "75    1\n",
              "76    1\n",
              "Name: class, Length: 77, dtype: object"
            ]
          },
          "metadata": {
            "tags": []
          },
          "execution_count": 74
        }
      ]
    },
    {
      "cell_type": "code",
      "metadata": {
        "id": "k4e3dIiJ8YUt",
        "colab": {
          "base_uri": "https://localhost:8080/"
        },
        "outputId": "bf4829c8-d8bc-4700-eac5-80afb6e378b0"
      },
      "source": [
        "df.columns"
      ],
      "execution_count": 75,
      "outputs": [
        {
          "output_type": "execute_result",
          "data": {
            "text/plain": [
              "Index(['A28102', 'AB000114_at', 'AB000115_at', 'AB000220_at', 'AB000409_at',\n",
              "       'AB000449_at', 'AB000450_at', 'AB000460_at', 'AB000462_at',\n",
              "       'AB000464_at',\n",
              "       ...\n",
              "       'U58516_at', 'U73738_at', 'X06956_at', 'X16699_at', 'X83863_at',\n",
              "       'Z17240_at', 'L49218_f_at', 'M71243_f_at', 'Z78285_f_at', 'class'],\n",
              "      dtype='object', length=7071)"
            ]
          },
          "metadata": {
            "tags": []
          },
          "execution_count": 75
        }
      ]
    },
    {
      "cell_type": "code",
      "metadata": {
        "id": "1oHp6WMEJlYn"
      },
      "source": [
        "df = df.apply(pd.to_numeric)"
      ],
      "execution_count": 78,
      "outputs": []
    },
    {
      "cell_type": "code",
      "metadata": {
        "colab": {
          "base_uri": "https://localhost:8080/"
        },
        "id": "7fpGL8CYJppo",
        "outputId": "e3cb6eb1-61fc-465f-f306-b90015508b65"
      },
      "source": [
        "df.loc[0][0]"
      ],
      "execution_count": 80,
      "outputs": [
        {
          "output_type": "execute_result",
          "data": {
            "text/plain": [
              "-1"
            ]
          },
          "metadata": {
            "tags": []
          },
          "execution_count": 80
        }
      ]
    },
    {
      "cell_type": "code",
      "metadata": {
        "id": "__bVPaHcJyUd"
      },
      "source": [
        "X = df.drop(columns='class')\n",
        "y = df['class']"
      ],
      "execution_count": 81,
      "outputs": []
    },
    {
      "cell_type": "code",
      "metadata": {
        "id": "68BviDrssvt5"
      },
      "source": [
        "X, y = shuffle(X, y, random_state=1)"
      ],
      "execution_count": 83,
      "outputs": []
    },
    {
      "cell_type": "code",
      "metadata": {
        "id": "UjoOdcOMtBYL"
      },
      "source": [
        "y.reset_index(inplace=True,drop=True)\n",
        "X.reset_index(inplace=True,drop=True)"
      ],
      "execution_count": 84,
      "outputs": []
    },
    {
      "cell_type": "code",
      "metadata": {
        "id": "rcbtQcdkr7kg"
      },
      "source": [
        "X_df = X\n",
        "y_df = y"
      ],
      "execution_count": 86,
      "outputs": []
    },
    {
      "cell_type": "code",
      "metadata": {
        "id": "HJWdI9VOsB3h"
      },
      "source": [
        "X=X.to_numpy()\n",
        "y=y.to_numpy()"
      ],
      "execution_count": 87,
      "outputs": []
    },
    {
      "cell_type": "markdown",
      "metadata": {
        "id": "faoJL-s2jocw"
      },
      "source": [
        "# Cross Validation Loop"
      ]
    },
    {
      "cell_type": "code",
      "metadata": {
        "id": "yTH1FjH6Bs_1"
      },
      "source": [
        "def cross_val(num_features,model_type,ftr_select,to_smote,minority_frac,num_trials=20):\n",
        "\n",
        "  #arrays contain values \n",
        "  means_acc = [] #array where each element is the mean value of accuracy across all folds in a single trial\n",
        "  #stddev_acc = [] #array where each element is the std. dev. of accuracy across all folds in a single trial\n",
        "\n",
        "  #run cross validation multiple times\n",
        "  for i in range(num_trials): \n",
        "\n",
        "    # configure the cross-validation procedure\n",
        "    cv = StratifiedShuffleSplit(n_splits=10, test_size =20)\n",
        "    acc_arr = [] #array where each element is the accuracy score of each fold\n",
        "\n",
        "    for train_ix, test_ix in cv.split(X,y):\n",
        "      \n",
        "      # split data\n",
        "      X_train, X_test = X[train_ix, :], X[test_ix, :]\n",
        "      y_train, y_test = y[train_ix], y[test_ix]\n",
        "\n",
        "      #feature selection\n",
        "      if ftr_select == 'anova_f_stat':\n",
        "        selector = SelectKBest(f_classif, k=num_features)\n",
        "        selector.fit(X_train, y_train)\n",
        "        ftr_mask = selector.get_support()\n",
        "        X_train_new = (X_train.T[ftr_mask]).T\n",
        "        X_test_new = (X_test.T[ftr_mask]).T\n",
        "      if ftr_select == None:\n",
        "        X_train_new = X_train\n",
        "        X_test_new = X_test\n",
        "      \n",
        "      #oversampling\n",
        "      if to_smote == True:\n",
        "        oversample = SMOTE(sampling_strategy=minority_frac) #50% of majority class\n",
        "        X_train_new, y_train = oversample.fit_resample(X_train_new, y_train)\n",
        "\n",
        "      #scaling\n",
        "      stdscaler = StandardScaler()\n",
        "      stdscaler.fit(X_train_new)\n",
        "      X_train_new = stdscaler.transform(X_train_new)\n",
        "      X_test_new = stdscaler.transform(X_test_new)\n",
        "\n",
        "      #model training and prediction\n",
        "      if model_type == 'svm':\n",
        "        model = SVC(C=1.0, kernel='rbf')\n",
        "      if model_type == 'rf' :\n",
        "        model = RandomForestClassifier(n_estimators=100)\n",
        "      model.fit(X_train_new, y_train)\n",
        "      y_pred = model.predict(X_test_new)\n",
        "\n",
        "      #accuracy calculation of test set in a single fold\n",
        "      acc_arr.append(accuracy_score(y_test, y_pred))\n",
        "\n",
        "    means_acc.append(np.mean(acc_arr))\n",
        "    #stddev_acc.append(np.std(acc_arr))\n",
        "  \n",
        "  return means_acc"
      ],
      "execution_count": 90,
      "outputs": []
    },
    {
      "cell_type": "markdown",
      "metadata": {
        "id": "W9eINVAEFhRg"
      },
      "source": [
        "# Optimizing no. of features to be used in feature selection process"
      ]
    },
    {
      "cell_type": "markdown",
      "metadata": {
        "id": "zN0zNNs6mrEe"
      },
      "source": [
        "First, performance without feature selection"
      ]
    },
    {
      "cell_type": "code",
      "metadata": {
        "id": "QvspDkcfmw6p"
      },
      "source": [
        "means_acc = cross_val(num_features = None,\n",
        "                      model_type = 'svm',\n",
        "                      ftr_select = None,\n",
        "                      to_smote=False,\n",
        "                      minority_frac=None)"
      ],
      "execution_count": null,
      "outputs": []
    },
    {
      "cell_type": "code",
      "metadata": {
        "colab": {
          "base_uri": "https://localhost:8080/"
        },
        "id": "D_sdhCygm9Av",
        "outputId": "61893598-4ce8-43da-a8c6-95a68c7578a4"
      },
      "source": [
        "print('mean acc. across all trials :',np.round(np.mean(means_acc),4))"
      ],
      "execution_count": null,
      "outputs": [
        {
          "output_type": "stream",
          "text": [
            "mean acc. across all trials : 0.7717\n"
          ],
          "name": "stdout"
        }
      ]
    },
    {
      "cell_type": "markdown",
      "metadata": {
        "id": "1ncZ1sE8jxFs"
      },
      "source": [
        "Now, we use feature subsets of various sizes."
      ]
    },
    {
      "cell_type": "code",
      "metadata": {
        "id": "2iXgN1iOHk0j"
      },
      "source": [
        "num_features_arr = list([10,50,100,150,200,250,300,350,400,450,500,1000,2000,3000,4000,5000,6000,7000,7070])"
      ],
      "execution_count": null,
      "outputs": []
    },
    {
      "cell_type": "code",
      "metadata": {
        "id": "n8PSIT0_F3Gn"
      },
      "source": [
        "acc_svm = [] \n",
        "for num in num_features_arr:\n",
        "  means_acc = cross_val(num_features = num,\n",
        "                        model_type = 'svm',\n",
        "                        ftr_select = 'anova_f_stat',\n",
        "                        to_smote=False,\n",
        "                        minority_frac=None)\n",
        "  \n",
        "  acc_svm.append(np.mean(means_acc))"
      ],
      "execution_count": null,
      "outputs": []
    },
    {
      "cell_type": "code",
      "metadata": {
        "colab": {
          "base_uri": "https://localhost:8080/"
        },
        "id": "-d4yq7kuH_DR",
        "outputId": "378b9580-d18e-4db7-9d6c-8d565540e712"
      },
      "source": [
        "print('mean acc. across all trials |','num',num_features_arr[np.argmax(acc_svm)],'| value',np.round(np.max(acc_svm),4))"
      ],
      "execution_count": null,
      "outputs": [
        {
          "output_type": "stream",
          "text": [
            "mean acc. across all trials | num 500 | value 0.9382\n"
          ],
          "name": "stdout"
        }
      ]
    },
    {
      "cell_type": "code",
      "metadata": {
        "id": "uOWIqckR4Irv"
      },
      "source": [
        "acc_rf = [] \n",
        "for num in num_features_arr:\n",
        "  means_acc = cross_val(num_features = num,\n",
        "                        model_type = 'rf',\n",
        "                        ftr_select = 'anova_f_stat',\n",
        "                        to_smote=False,\n",
        "                        minority_frac=None)\n",
        "  \n",
        "  acc_rf.append(np.mean(means_acc))"
      ],
      "execution_count": null,
      "outputs": []
    },
    {
      "cell_type": "code",
      "metadata": {
        "colab": {
          "base_uri": "https://localhost:8080/"
        },
        "id": "24Jpco054Ir7",
        "outputId": "eced57f7-dcba-481d-8ce7-477fbed7c5da"
      },
      "source": [
        "print('mean acc. across all trials |','num',num_features_arr[np.argmax(acc_rf)],'| value',np.round(np.max(acc_rf),4))"
      ],
      "execution_count": null,
      "outputs": [
        {
          "output_type": "stream",
          "text": [
            "mean acc. across all trials | num 200 | value 0.8962\n"
          ],
          "name": "stdout"
        }
      ]
    },
    {
      "cell_type": "code",
      "metadata": {
        "colab": {
          "base_uri": "https://localhost:8080/",
          "height": 350
        },
        "id": "YevWDp1GHrKP",
        "outputId": "f116b32c-55d8-4679-9f9c-00db5f60d0ae"
      },
      "source": [
        "plt.figure(figsize=(12,5))\n",
        "plt.title('Optimizing no. of features for Model + Anova F-Stat')\n",
        "\n",
        "plt.plot(num_features_arr,acc_svm,label='SVM',color='C0')\n",
        "plt.plot(num_features_arr,acc_rf,label='Random Forest',color='C1')\n",
        "\n",
        "plt.axvline(num_features_arr[np.argmax(acc_svm)],color='C0',linestyle='--',label='Optimal no. of features for SVM')\n",
        "plt.text(num_features_arr[np.argmax(acc_svm)]-100,0.748,num_features_arr[np.argmax(acc_svm)],color='C0')\n",
        "\n",
        "plt.axvline(num_features_arr[np.argmax(acc_rf)],color='C1',linestyle='--',label='Optimal no. of features for RF')\n",
        "plt.text(num_features_arr[np.argmax(acc_rf)]-100,0.748,num_features_arr[np.argmax(acc_rf)],color='C1')\n",
        "\n",
        "plt.legend()\n",
        "plt.xlabel('No. of features')\n",
        "plt.ylabel('Accuracy score')\n",
        "plt.show()"
      ],
      "execution_count": null,
      "outputs": [
        {
          "output_type": "display_data",
          "data": {
            "image/png": "[encoded data removed]",
            "text/plain": [
              "<Figure size 864x360 with 1 Axes>"
            ]
          },
          "metadata": {
            "tags": [],
            "needs_background": "light"
          }
        }
      ]
    },
    {
      "cell_type": "markdown",
      "metadata": {
        "id": "bwFbP9bolnl1"
      },
      "source": [
        "These above scores also are an estimate for the model performance without oversampling (SMOTE)"
      ]
    },
    {
      "cell_type": "code",
      "metadata": {
        "id": "XgowikDbkAV9"
      },
      "source": [
        "num_ftrs_svm = 500\n",
        "num_ftrs_rf = 200"
      ],
      "execution_count": 91,
      "outputs": []
    },
    {
      "cell_type": "markdown",
      "metadata": {
        "id": "kZkMU5lmkGGX"
      },
      "source": [
        "# Optimizing percentage for SMOTE"
      ]
    },
    {
      "cell_type": "code",
      "metadata": {
        "id": "8yO_GgsmkTsT"
      },
      "source": [
        "minority_frac_arr = [0.4,0.5,0.6,0.7,0.8,0.9,1.0]"
      ],
      "execution_count": null,
      "outputs": []
    },
    {
      "cell_type": "code",
      "metadata": {
        "colab": {
          "base_uri": "https://localhost:8080/"
        },
        "id": "zhiPWA9Tga3x",
        "outputId": "83f20605-13a0-4e95-cf95-b785641cbe16"
      },
      "source": [
        "pd.Series(y).value_counts()"
      ],
      "execution_count": null,
      "outputs": [
        {
          "output_type": "execute_result",
          "data": {
            "text/plain": [
              "0    58\n",
              "1    19\n",
              "dtype: int64"
            ]
          },
          "metadata": {
            "tags": []
          },
          "execution_count": 66
        }
      ]
    },
    {
      "cell_type": "code",
      "metadata": {
        "colab": {
          "base_uri": "https://localhost:8080/"
        },
        "id": "_2lLaeuogjLh",
        "outputId": "927c7b5a-5292-4a67-c4ec-b3e504f58eb0"
      },
      "source": [
        "58*0.4"
      ],
      "execution_count": null,
      "outputs": [
        {
          "output_type": "execute_result",
          "data": {
            "text/plain": [
              "23.200000000000003"
            ]
          },
          "metadata": {
            "tags": []
          },
          "execution_count": 67
        }
      ]
    },
    {
      "cell_type": "code",
      "metadata": {
        "colab": {
          "base_uri": "https://localhost:8080/"
        },
        "id": "_OzutgbI-VIe",
        "outputId": "66225651-7120-4fbc-9a36-0f4bc8bd90ba"
      },
      "source": [
        "58*0.3"
      ],
      "execution_count": null,
      "outputs": [
        {
          "output_type": "execute_result",
          "data": {
            "text/plain": [
              "17.4"
            ]
          },
          "metadata": {
            "tags": []
          },
          "execution_count": 68
        }
      ]
    },
    {
      "cell_type": "markdown",
      "metadata": {
        "id": "X-X_hqvI-YIf"
      },
      "source": [
        "Lesser than what is available in class 1. Let's start with 0.4"
      ]
    },
    {
      "cell_type": "code",
      "metadata": {
        "id": "UmFyqIK24cq2"
      },
      "source": [
        "acc_svm_smote = [] \n",
        "for minority_frac in minority_frac_arr:\n",
        "  means_acc = cross_val(num_features = num_ftrs_svm,\n",
        "                        model_type = 'svm',\n",
        "                        ftr_select = 'anova_f_stat',\n",
        "                        to_smote=True,\n",
        "                        minority_frac=minority_frac)\n",
        "  \n",
        "  acc_svm_smote.append(np.mean(means_acc))"
      ],
      "execution_count": null,
      "outputs": []
    },
    {
      "cell_type": "code",
      "metadata": {
        "colab": {
          "base_uri": "https://localhost:8080/"
        },
        "id": "neWcv72x4cq4",
        "outputId": "b652e847-97e5-4653-dfc3-462c9e29e907"
      },
      "source": [
        "print('mean acc. across all trials |','num',minority_frac_arr[np.argmax(acc_svm_smote)],'| value',np.round(np.max(acc_svm_smote),4))"
      ],
      "execution_count": null,
      "outputs": [
        {
          "output_type": "stream",
          "text": [
            "mean acc. across all trials | num 1.0 | value 0.9392\n"
          ],
          "name": "stdout"
        }
      ]
    },
    {
      "cell_type": "code",
      "metadata": {
        "id": "6TpFM2IWlXWu"
      },
      "source": [
        "acc_rf_smote = [] \n",
        "for minority_frac in minority_frac_arr:\n",
        "  means_acc = cross_val(num_features = num_ftrs_rf,\n",
        "                        model_type = 'rf',\n",
        "                        ftr_select = 'anova_f_stat',\n",
        "                        to_smote=True,\n",
        "                        minority_frac=minority_frac)\n",
        "  \n",
        "  acc_rf_smote.append(np.mean(means_acc))"
      ],
      "execution_count": null,
      "outputs": []
    },
    {
      "cell_type": "code",
      "metadata": {
        "colab": {
          "base_uri": "https://localhost:8080/"
        },
        "id": "tbe-JXIKlXWx",
        "outputId": "bc8f3989-c455-4625-92f3-498084daec64"
      },
      "source": [
        "print('mean acc. across all trials |','num',minority_frac_arr[np.argmax(acc_rf_smote)],'| value',np.round(np.max(acc_rf_smote),4))"
      ],
      "execution_count": null,
      "outputs": [
        {
          "output_type": "stream",
          "text": [
            "mean acc. across all trials | num 1.0 | value 0.9278\n"
          ],
          "name": "stdout"
        }
      ]
    },
    {
      "cell_type": "code",
      "metadata": {
        "colab": {
          "base_uri": "https://localhost:8080/",
          "height": 350
        },
        "id": "OR4SDB64xo6S",
        "outputId": "287d7ac7-b46d-42c6-a23d-885f03034610"
      },
      "source": [
        "plt.figure(figsize=(12,5))\n",
        "plt.title('Optimizing minority percentage for Model + Anova F-Stat')\n",
        "\n",
        "plt.plot(minority_frac_arr,acc_svm_smote,label='SVM',color='C0')\n",
        "plt.plot(minority_frac_arr,acc_rf_smote,label='Random Forest',color='C1')\n",
        "\n",
        "plt.axvline(minority_frac_arr[np.argmax(acc_svm_smote)],color='C2',linestyle='--',label='Optimal minority percentage for SVM & RF')\n",
        "\n",
        "plt.legend()\n",
        "plt.xlabel('Fraction of majority samples in the minority class')\n",
        "plt.ylabel('Accuracy score')\n",
        "plt.show()"
      ],
      "execution_count": null,
      "outputs": [
        {
          "output_type": "display_data",
          "data": {
            "image/png": "[encoded data removed]",
            "text/plain": [
              "<Figure size 864x360 with 1 Axes>"
            ]
          },
          "metadata": {
            "tags": [],
            "needs_background": "light"
          }
        }
      ]
    },
    {
      "cell_type": "code",
      "metadata": {
        "id": "lrbxN_UQmlmV"
      },
      "source": [
        "minority_frac_svm = 1.0\n",
        "minority_frac_rf = 1.0"
      ],
      "execution_count": 92,
      "outputs": []
    },
    {
      "cell_type": "markdown",
      "metadata": {
        "id": "e1LaouHZsv1C"
      },
      "source": [
        "# Training final models"
      ]
    },
    {
      "cell_type": "code",
      "metadata": {
        "id": "F3Obxe57rkbx"
      },
      "source": [
        "def train_final_model(model_type, num_ftrs, minority_frac): \n",
        "\n",
        "  #feature selection\n",
        "  selector = SelectKBest(f_classif, k=num_ftrs)\n",
        "  selector.fit(X, y)\n",
        "  ftr_mask = selector.get_support()\n",
        "  X_new = (X.T[ftr_mask]).T\n",
        "\n",
        "  #oversampling\n",
        "  oversample = SMOTE(sampling_strategy=minority_frac) \n",
        "  X_new, y_new = oversample.fit_resample(X_new, y)\n",
        "\n",
        "  #scaling\n",
        "  stdscaler = StandardScaler()\n",
        "  stdscaler.fit(X_new)\n",
        "  X_new = stdscaler.transform(X_new)\n",
        "\n",
        "  #model training\n",
        "  if model_type == 'svm':\n",
        "    model = SVC(C=1.0, kernel='rbf')\n",
        "  if model_type == 'rf' :\n",
        "    model = RandomForestClassifier(n_estimators=100)\n",
        "  model.fit(X_new, y_new)\n",
        "\n",
        "  #model prediction\n",
        "  y_pred = model.predict(X_new)\n",
        "\n",
        "  print('Training Score :')\n",
        "  print('acc. :',accuracy_score(y_new, y_pred))\n",
        "\n",
        "  return model, selector, stdscaler"
      ],
      "execution_count": 28,
      "outputs": []
    },
    {
      "cell_type": "markdown",
      "metadata": {
        "id": "hOAKLtCBrQDn"
      },
      "source": [
        "## SVM"
      ]
    },
    {
      "cell_type": "code",
      "metadata": {
        "id": "00VL6xiW0Ll6"
      },
      "source": [
        "svm_dict = {}"
      ],
      "execution_count": null,
      "outputs": []
    },
    {
      "cell_type": "code",
      "metadata": {
        "colab": {
          "base_uri": "https://localhost:8080/"
        },
        "id": "MCsiZrSewm8a",
        "outputId": "965785f2-d65d-442d-e77e-73c79d5842ab"
      },
      "source": [
        "svm, svm_selector, svm_stdscaler = train_final_model(model_type='svm',num_ftrs=num_ftrs_svm,minority_frac=minority_frac_svm)"
      ],
      "execution_count": null,
      "outputs": [
        {
          "output_type": "stream",
          "text": [
            "Training Score :\n",
            "acc. : 1.0\n"
          ],
          "name": "stdout"
        }
      ]
    },
    {
      "cell_type": "code",
      "metadata": {
        "id": "wAjruxnI2shB"
      },
      "source": [
        "ftrs_arr_svm = np.array(X_df.columns)[svm_selector.get_support()]"
      ],
      "execution_count": null,
      "outputs": []
    },
    {
      "cell_type": "code",
      "metadata": {
        "id": "3j-Pn9Xl0N2A"
      },
      "source": [
        "svm_dict['model'] = svm\n",
        "svm_dict['selector'] = svm_selector\n",
        "svm_dict['scaler'] = svm_stdscaler\n",
        "svm_dict['num_features'] = num_ftrs_svm\n",
        "svm_dict['minority_frac'] = minority_frac_svm\n",
        "svm_dict['features_list'] = ftrs_arr_svm"
      ],
      "execution_count": null,
      "outputs": []
    },
    {
      "cell_type": "markdown",
      "metadata": {
        "id": "KlNPZig-rnvf"
      },
      "source": [
        "## Random Forest"
      ]
    },
    {
      "cell_type": "code",
      "metadata": {
        "id": "VGdhn3Op3nuT"
      },
      "source": [
        "rf_dict = {}"
      ],
      "execution_count": null,
      "outputs": []
    },
    {
      "cell_type": "code",
      "metadata": {
        "colab": {
          "base_uri": "https://localhost:8080/"
        },
        "id": "hMTl0vWewrUx",
        "outputId": "3af5a5a6-a495-45fd-bdc9-b1f9d3cfdf78"
      },
      "source": [
        "rf, rf_selector, rf_stdscaler = train_final_model(model_type='rf',num_ftrs=num_ftrs_rf,minority_frac=minority_frac_rf)"
      ],
      "execution_count": null,
      "outputs": [
        {
          "output_type": "stream",
          "text": [
            "Training Score :\n",
            "acc. : 1.0\n"
          ],
          "name": "stdout"
        }
      ]
    },
    {
      "cell_type": "code",
      "metadata": {
        "id": "qUq4H_AGrqBD"
      },
      "source": [
        "ftrs_arr_rf = np.array(X_df.columns)[rf_selector.get_support()]"
      ],
      "execution_count": null,
      "outputs": []
    },
    {
      "cell_type": "code",
      "metadata": {
        "id": "u1XbwJdk3fIc"
      },
      "source": [
        "rf_dict['model'] = rf\n",
        "rf_dict['selector'] = rf_selector\n",
        "rf_dict['scaler'] = rf_stdscaler\n",
        "rf_dict['num_features'] = num_ftrs_rf\n",
        "rf_dict['minority_frac'] = minority_frac_rf\n",
        "rf_dict['features_list'] = ftrs_arr_rf"
      ],
      "execution_count": null,
      "outputs": []
    },
    {
      "cell_type": "markdown",
      "metadata": {
        "id": "8fUnLrPEzFr_"
      },
      "source": [
        "# Prediction"
      ]
    },
    {
      "cell_type": "code",
      "metadata": {
        "id": "1Gw5aFckzHxv"
      },
      "source": [
        "def prediction(model, input_X, selector, stdscaler): \n",
        "\n",
        "  #apply feature mask\n",
        "  ftr_mask = selector.get_support()\n",
        "  input_X = (input_X.T[ftr_mask]).T\n",
        "\n",
        "  #scaling\n",
        "  input_X = stdscaler.transform(input_X)\n",
        "\n",
        "  #model prediction\n",
        "  y_pred = model.predict(input_X)\n",
        "\n",
        "  return y_pred"
      ],
      "execution_count": 129,
      "outputs": []
    },
    {
      "cell_type": "code",
      "metadata": {
        "id": "vbTunv-Qg-k-"
      },
      "source": [
        "X_input = X"
      ],
      "execution_count": 135,
      "outputs": []
    },
    {
      "cell_type": "code",
      "metadata": {
        "id": "fywMxm8G251t"
      },
      "source": [
        "y_pred = prediction(svm_dict['model'], X_input, svm_dict['selector'], svm_dict['scaler'])"
      ],
      "execution_count": 136,
      "outputs": []
    },
    {
      "cell_type": "code",
      "metadata": {
        "id": "NrCIB02o4imz"
      },
      "source": [
        "y_pred = prediction(rf_dict['model'], X_input, rf_dict['selector'], rf_dict['scaler'])"
      ],
      "execution_count": null,
      "outputs": []
    },
    {
      "cell_type": "markdown",
      "metadata": {
        "id": "v7tnu2XKxRdm"
      },
      "source": [
        "# Saving final models for later use"
      ]
    },
    {
      "cell_type": "code",
      "metadata": {
        "id": "zTSmqoh5xUg5"
      },
      "source": [
        "filename = '/content/svm_dict.pkl'\n",
        "pickle.dump(svm_dict, open(filename, 'wb'))"
      ],
      "execution_count": null,
      "outputs": []
    },
    {
      "cell_type": "code",
      "metadata": {
        "id": "kAqLjrxJxzdG"
      },
      "source": [
        "filename = '/content/rf_dict.pkl'\n",
        "pickle.dump(rf_dict, open(filename, 'wb'))"
      ],
      "execution_count": null,
      "outputs": []
    },
    {
      "cell_type": "markdown",
      "metadata": {
        "id": "vIlhVaFOxlnF"
      },
      "source": [
        "# Loading models"
      ]
    },
    {
      "cell_type": "code",
      "metadata": {
        "colab": {
          "base_uri": "https://localhost:8080/"
        },
        "id": "zy-6uXMQxnN-",
        "outputId": "c04649ec-850c-42ac-df4f-bc781bb4994b"
      },
      "source": [
        "filename = '/content/svm_dict.pkl'\n",
        "dict_svm = pickle.load(open(filename, 'rb'))\n",
        "\n",
        "y_pred = prediction(dict_svm['model'], X_input, dict_svm['selector'], dict_svm['scaler'])\n",
        "print('Acc. : ',accuracy_score(y, y_pred))"
      ],
      "execution_count": 145,
      "outputs": [
        {
          "output_type": "stream",
          "text": [
            "Acc. :  1.0\n"
          ],
          "name": "stdout"
        }
      ]
    },
    {
      "cell_type": "code",
      "metadata": {
        "id": "stgvssbtx8z-",
        "colab": {
          "base_uri": "https://localhost:8080/"
        },
        "outputId": "f1fee9fe-551e-4cb8-a95d-9309b00300bb"
      },
      "source": [
        "filename = '/content/rf_dict.pkl'\n",
        "dict_rf = pickle.load(open(filename, 'rb'))\n",
        "\n",
        "y_pred = prediction(dict_rf['model'], X_input, dict_rf['selector'], dict_rf['scaler'])\n",
        "print('Acc. : ',accuracy_score(y, y_pred))"
      ],
      "execution_count": 146,
      "outputs": [
        {
          "output_type": "stream",
          "text": [
            "Acc. :  1.0\n"
          ],
          "name": "stdout"
        }
      ]
    },
    {
      "cell_type": "markdown",
      "metadata": {
        "id": "gLVOrZq51jTr"
      },
      "source": [
        "# Visualization"
      ]
    },
    {
      "cell_type": "markdown",
      "metadata": {
        "id": "Cd3s9APUIF8v"
      },
      "source": [
        "## Importance of features"
      ]
    },
    {
      "cell_type": "markdown",
      "metadata": {
        "id": "pWulno5_uPaH"
      },
      "source": [
        "SVM uses 500 features where RF uses 200 features. The top 200 features in both will be common for ANOVA f-test feature selection method, b'cuz although we optimized the \"no.\" of features to be used by training the models; which features will be selected completely relies on the ANOVA f-test method. Hence, the common features."
      ]
    },
    {
      "cell_type": "code",
      "metadata": {
        "id": "kAG9ci9KpLZ8"
      },
      "source": [
        "ftrs_scores = np.sort(dict_svm['selector'].scores_)[::-1][:500]"
      ],
      "execution_count": 254,
      "outputs": []
    },
    {
      "cell_type": "code",
      "metadata": {
        "id": "z2vq15tYiWuF"
      },
      "source": [
        "ftrs_mask = np.argsort(dict_svm['selector'].scores_)[::-1][:500]"
      ],
      "execution_count": 255,
      "outputs": []
    },
    {
      "cell_type": "code",
      "metadata": {
        "id": "84oIojhjkhuZ"
      },
      "source": [
        "ftrs_names = np.array(X_df.columns)[ftrs_mask]"
      ],
      "execution_count": 256,
      "outputs": []
    },
    {
      "cell_type": "code",
      "metadata": {
        "colab": {
          "base_uri": "https://localhost:8080/",
          "height": 364
        },
        "id": "0EShyT1pomfg",
        "outputId": "29cc4d2d-7e48-433a-8b9f-422ceb970065"
      },
      "source": [
        "plt.figure(figsize=(14,4))\n",
        "plt.bar(x=ftrs_names[:50],height=ftrs_scores[:50])\n",
        "plt.xticks(rotation=90, fontsize=8)\n",
        "plt.xlabel('Feature name')\n",
        "plt.ylabel('Feature importance score')\n",
        "plt.title('Top 50 features as selected by ANOVA f-test for RF & SVM')\n",
        "plt.show()"
      ],
      "execution_count": 258,
      "outputs": [
        {
          "output_type": "display_data",
          "data": {
            "image/png": "[encoded data removed]",
            "text/plain": [
              "<Figure size 1008x288 with 1 Axes>"
            ]
          },
          "metadata": {
            "tags": [],
            "needs_background": "light"
          }
        }
      ]
    },
    {
      "cell_type": "markdown",
      "metadata": {
        "id": "n1AvnkhawiZR"
      },
      "source": [
        "To make plotting feature importance scores of 500 features more manageable, we sort the features in decreasing order of importance and create groups of 10 features each. To summarize the feature importance score of each of these groups, we plot the mean & std. dev. of each of these groups (total 50) rather than that of the individual features (total 500)."
      ]
    },
    {
      "cell_type": "code",
      "metadata": {
        "id": "CYiXZIghZddv"
      },
      "source": [
        "means_50 = []\n",
        "stddev_50 = []\n",
        "x_labels_50 = []\n",
        "for num in range(0,500,10):\n",
        "  means_50.append(np.mean(ftrs_scores[num:num+10]))\n",
        "  stddev_50.append(np.std(ftrs_scores[num:num+10]))\n",
        "  x_labels_50.append(f'{num}-{num+10}')"
      ],
      "execution_count": 262,
      "outputs": []
    },
    {
      "cell_type": "code",
      "metadata": {
        "colab": {
          "base_uri": "https://localhost:8080/",
          "height": 319
        },
        "id": "c-JWgFEnrbfK",
        "outputId": "01f14910-4d3d-4624-b9ee-8f5f8766d502"
      },
      "source": [
        "plt.figure(figsize=(14,4))\n",
        "plt.bar(x_labels_50,means_50, yerr = stddev_50, capsize=3)\n",
        "plt.xticks(rotation=90, fontsize=8)\n",
        "plt.xlabel('Feature groups (in decreasing order of feature importance)')\n",
        "plt.ylabel('Mean Feature importance score of group')\n",
        "plt.axvline(19.5,color='C1',linestyle='dashed',label='RF uses all the features upto this mark')\n",
        "plt.axvline(49.5,color='C2',linestyle='dashed',label='SVM uses all the features upto this mark')\n",
        "plt.title('500 features (shown as groups of 10) as selected by ANOVA f-test for RF & SVM')\n",
        "plt.legend()\n",
        "plt.show()"
      ],
      "execution_count": 292,
      "outputs": [
        {
          "output_type": "display_data",
          "data": {
            "image/png": "[encoded data removed]",
            "text/plain": [
              "<Figure size 1008x288 with 1 Axes>"
            ]
          },
          "metadata": {
            "tags": [],
            "needs_background": "light"
          }
        }
      ]
    },
    {
      "cell_type": "markdown",
      "metadata": {
        "id": "RLHpO1WW32-K"
      },
      "source": [
        "## Distribution of accuracy scores across various trials (done only for SVM)"
      ]
    },
    {
      "cell_type": "code",
      "metadata": {
        "id": "WRLgPsJo387i"
      },
      "source": [
        "means_acc_20 =  cross_val(num_features = num_ftrs_svm,\n",
        "                          model_type = 'svm',\n",
        "                          ftr_select = 'anova_f_stat',\n",
        "                          to_smote=True,\n",
        "                          minority_frac=minority_frac_svm,num_trials=20)"
      ],
      "execution_count": 139,
      "outputs": []
    },
    {
      "cell_type": "code",
      "metadata": {
        "colab": {
          "base_uri": "https://localhost:8080/"
        },
        "id": "qYV1ukj-MLCH",
        "outputId": "01b6688a-3d06-46af-ecf9-88799df47276"
      },
      "source": [
        "mu = np.mean(means_acc_20)\n",
        "sigma = np.std(means_acc_20)\n",
        "print('Mean:',mu)\n",
        "print('Std. Dev.:',sigma)"
      ],
      "execution_count": null,
      "outputs": [
        {
          "output_type": "stream",
          "text": [
            "Mean: 0.9422499999999999\n",
            "Std. Dev.: 0.014532291629333604\n"
          ],
          "name": "stdout"
        }
      ]
    },
    {
      "cell_type": "code",
      "metadata": {
        "colab": {
          "base_uri": "https://localhost:8080/",
          "height": 297
        },
        "id": "voVLt8LlMLCR",
        "outputId": "253f06b3-0036-4f98-b720-225932de1ea1"
      },
      "source": [
        "fig, ax = plt.subplots()\n",
        "\n",
        "# the histogram of the data\n",
        "ax.hist(means_acc_20,alpha=0.5,label='Original Distribution')\n",
        "\n",
        "# fitting a normal distribution\n",
        "# bins = np.linspace(np.min(means_acc_20),np.max(means_acc_20),50)\n",
        "# y = ((1 / (np.sqrt(2 * np.pi) * sigma)) *\n",
        "#      np.exp(-0.5 * (1 / sigma * (bins - mu))**2))\n",
        "# ax.plot(bins, y, '--',color='C1',label='Fitted Gaussian')\n",
        "\n",
        "#mean line\n",
        "ax.axvline(mu,linestyle='--',color='C4',label='Mean Line')\n",
        "\n",
        "ax.set_xlabel('Accuracy Score value')\n",
        "ax.set_ylabel('Frequency')\n",
        "ax.set_title(r'Distribution of accuracy scores over 20 trials: $\\mu=0.942$, $\\sigma=0.015$')\n",
        "\n",
        "fig.tight_layout()\n",
        "plt.legend()\n",
        "plt.show()"
      ],
      "execution_count": null,
      "outputs": [
        {
          "output_type": "display_data",
          "data": {
            "image/png": "[encoded data removed]",
            "text/plain": [
              "<Figure size 432x288 with 1 Axes>"
            ]
          },
          "metadata": {
            "tags": [],
            "needs_background": "light"
          }
        }
      ]
    },
    {
      "cell_type": "code",
      "metadata": {
        "id": "pqyA-IyH5J9B"
      },
      "source": [
        "means_acc_200 = cross_val(num_features = num_ftrs_svm,\n",
        "                      model_type = 'svm',\n",
        "                      ftr_select = 'anova_f_stat',\n",
        "                      to_smote=True,\n",
        "                      minority_frac=minority_frac_svm,num_trials=200)"
      ],
      "execution_count": null,
      "outputs": []
    },
    {
      "cell_type": "code",
      "metadata": {
        "colab": {
          "base_uri": "https://localhost:8080/"
        },
        "id": "-xDxhrku7lbD",
        "outputId": "2da772c0-49a9-47aa-fc15-3f53ac121ee2"
      },
      "source": [
        "mu = np.mean(means_acc_200)\n",
        "sigma = np.std(means_acc_200)\n",
        "print('Mean:',mu)\n",
        "print('Std. Dev.:',sigma)"
      ],
      "execution_count": null,
      "outputs": [
        {
          "output_type": "stream",
          "text": [
            "Mean: 0.93395\n",
            "Std. Dev.: 0.01699698502676282\n"
          ],
          "name": "stdout"
        }
      ]
    },
    {
      "cell_type": "code",
      "metadata": {
        "colab": {
          "base_uri": "https://localhost:8080/",
          "height": 297
        },
        "id": "EWSNo9u2Ig_5",
        "outputId": "551a8ca0-2829-4277-be13-7535e853a672"
      },
      "source": [
        "fig, ax = plt.subplots()\n",
        "\n",
        "# the histogram of the data\n",
        "ax.hist(means_acc_200,alpha=0.5,label='Original Distribution')\n",
        "\n",
        "# fitting a normal distribution\n",
        "bins = np.linspace(np.min(means_acc_200),np.max(means_acc_200),50)\n",
        "y = ((1 / (np.sqrt(2 * np.pi) * sigma)) *\n",
        "     np.exp(-0.5 * (1 / sigma * (bins - mu))**2))\n",
        "ax.plot(bins, y, '--',color='C1',label='Fitted Gaussian')\n",
        "\n",
        "#mean line\n",
        "ax.axvline(mu,linestyle='--',color='C4',label='Mean Line')\n",
        "\n",
        "ax.set_xlabel('Accuracy Score value')\n",
        "ax.set_ylabel('Frequency')\n",
        "ax.set_title(r'Distribution of accuracy scores over 200 trials: $\\mu=0.934$, $\\sigma=0.017$')\n",
        "\n",
        "fig.tight_layout()\n",
        "plt.legend()\n",
        "plt.show()"
      ],
      "execution_count": null,
      "outputs": [
        {
          "output_type": "display_data",
          "data": {
            "image/png": "[encoded data removed]",
            "text/plain": [
              "<Figure size 432x288 with 1 Axes>"
            ]
          },
          "metadata": {
            "tags": [],
            "needs_background": "light"
          }
        }
      ]
    }
  ]
}